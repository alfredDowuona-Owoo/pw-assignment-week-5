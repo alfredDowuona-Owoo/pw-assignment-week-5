{
 "cells": [
  {
   "cell_type": "markdown",
   "id": "cd34ae6d",
   "metadata": {},
   "source": [
    "###### Q1. What is multiprocessing in python? Why is it useful?"
   ]
  },
  {
   "cell_type": "markdown",
   "id": "9fec6681",
   "metadata": {},
   "source": [
    "Multiprocessing in Python is a module that allows you to create and manage multiple processes, each of which runs independently. It's useful for parallelizing tasks and taking advantage of multi-core CPUs to improve performance in CPU-bound tasks, like data processing and computation-intensive operations. \n",
    "\n",
    "\n",
    "By using multiprocessing, you can achieve better utilization of available hardware resources and reduce the time it takes to complete tasks."
   ]
  },
  {
   "cell_type": "markdown",
   "id": "b4fa8b08",
   "metadata": {},
   "source": [
    "##### Q2. What are the differences between multiprocessing and multithreading?"
   ]
  },
  {
   "cell_type": "markdown",
   "id": "71d5ff85",
   "metadata": {},
   "source": [
    "Parallelism:\n",
    "\n",
    "Multiprocessing: Uses multiple processes, which run independently in separate memory spaces. Well-suited for CPU-bound tasks.\n",
    "Multithreading: Uses multiple threads within a single process, sharing the same memory space. Best for I/O-bound tasks.\n",
    "\n",
    "\n",
    "Concurrency vs. Parallelism:\n",
    "\n",
    "Multiprocessing: Achieves true parallelism by running processes simultaneously on multiple CPU cores.\n",
    "Multithreading: Provides concurrency by interleaving the execution of threads, often not utilizing multiple cores for CPU-bound tasks due to Python's Global Interpreter Lock (GIL).\n",
    "\n",
    "\n",
    "GIL (Global Interpreter Lock):\n",
    "\n",
    "Multiprocessing: GIL is not a concern as each process has its own Python interpreter and memory.\n",
    "Multithreading: GIL can limit true parallelism in CPU-bound tasks, as only one thread can execute Python code at a time within a process.\n",
    "\n",
    "\n",
    "Complexity:\n",
    "\n",
    "Multiprocessing: Generally more complex due to separate memory spaces but offers better parallelism for certain tasks.\n",
    "Multithreading: Simpler to implement but may face GIL limitations for CPU-bound tasks.\n",
    "\n",
    "\n",
    "Communication:\n",
    "\n",
    "Multiprocessing: Inter-process communication is typically done using mechanisms like pipes, queues, or shared memory.\n",
    "Multithreading: Threads can communicate more easily through shared data structures, but synchronization can be tricky."
   ]
  },
  {
   "cell_type": "markdown",
   "id": "466b52fe",
   "metadata": {},
   "source": [
    "###### Q3. Write a python code to create a process using the multiprocessing module."
   ]
  },
  {
   "cell_type": "code",
   "execution_count": 1,
   "id": "909f5ad5",
   "metadata": {},
   "outputs": [
    {
     "name": "stdout",
     "output_type": "stream",
     "text": [
      "Main process is done.\n"
     ]
    }
   ],
   "source": [
    "import multiprocessing\n",
    "\n",
    "def my_function():\n",
    "    print(\"This is a child process.\")\n",
    "\n",
    "if __name__ == \"__main__\":\n",
    "    # Create a multiprocessing Process\n",
    "    my_process = multiprocessing.Process(target=my_function)\n",
    "    \n",
    "    # Start the process\n",
    "    my_process.start()\n",
    "    \n",
    "    # Wait for the process to finish\n",
    "    my_process.join()\n",
    "\n",
    "    print(\"Main process is done.\")\n"
   ]
  },
  {
   "cell_type": "markdown",
   "id": "defa55f5",
   "metadata": {},
   "source": [
    "###### Q4. What is a multiprocessing pool in python? Why is it used?"
   ]
  },
  {
   "cell_type": "markdown",
   "id": "c9dbb553",
   "metadata": {},
   "source": [
    "A multiprocessing pool in Python, typically created using multiprocessing.Pool, is a mechanism for managing a pool of worker processes. It's used to parallelize the execution of a function across multiple inputs or tasks, distributing the workload efficiently among the available CPU cores. This simplifies concurrent execution and enhances performance for tasks that can be parallelized, such as applying a function to multiple data points."
   ]
  },
  {
   "cell_type": "markdown",
   "id": "5fec9041",
   "metadata": {},
   "source": [
    "###### Q5. How can we create a pool of worker processes in python using the multiprocessing module?\n"
   ]
  },
  {
   "cell_type": "markdown",
   "id": "19bfc99a",
   "metadata": {},
   "source": [
    "To create a pool of worker processes in Python using the multiprocessing module, you can use the multiprocessing.Pool class"
   ]
  },
  {
   "cell_type": "code",
   "execution_count": null,
   "id": "eb5b2450",
   "metadata": {},
   "outputs": [],
   "source": [
    "import multiprocessing\n",
    "\n",
    "def square(n):\n",
    "    return n**2\n",
    "if __name__ == '__main__':\n",
    "    with multiprocessing.Pool(processes=5) as pool :\n",
    "        out =pool.map(square , [3,4,8])\n",
    "        print(out)"
   ]
  },
  {
   "cell_type": "code",
   "execution_count": null,
   "id": "9d579dd2",
   "metadata": {},
   "outputs": [],
   "source": [
    "import multiprocessing\n",
    "\n",
    "def my_function(x):\n",
    "    return x * 2\n",
    "\n",
    "if __name__ == \"__main__\":\n",
    "    # Create a pool of worker processes with 4 workers\n",
    "    with multiprocessing.Pool(processes=4) as pool:\n",
    "        # Distribute tasks across the pool and get results\n",
    "        results = pool.map(my_function, [1, 2, 3])\n",
    "\n",
    "    print(results)\n"
   ]
  },
  {
   "cell_type": "markdown",
   "id": "34dcb637",
   "metadata": {},
   "source": [
    "##### Q6. Write a python program to create 4 processes, each process should print a different number using the multiprocessing module in python."
   ]
  },
  {
   "cell_type": "code",
   "execution_count": null,
   "id": "8526e9bb",
   "metadata": {},
   "outputs": [],
   "source": [
    "import multiprocessing\n",
    "\n",
    "def print_number(number):\n",
    "    print(f\"Process {number}: {number}\")\n",
    "\n",
    "if __name__ == \"__main__\":\n",
    "    processes = []\n",
    "\n",
    "    for i in range(1, 5):\n",
    "        process = multiprocessing.Process(target=print_number, args=(i,))\n",
    "        processes.append(process)\n",
    "        process.start()\n",
    "\n",
    "    for process in processes:\n",
    "        process.join()\n",
    "\n",
    "    print(\"All processes have finished.\")\n"
   ]
  },
  {
   "cell_type": "code",
   "execution_count": null,
   "id": "06fe4ad7",
   "metadata": {},
   "outputs": [],
   "source": []
  },
  {
   "cell_type": "code",
   "execution_count": null,
   "id": "4e7bc91a",
   "metadata": {},
   "outputs": [],
   "source": []
  },
  {
   "cell_type": "code",
   "execution_count": null,
   "id": "651456a9",
   "metadata": {},
   "outputs": [],
   "source": []
  }
 ],
 "metadata": {
  "kernelspec": {
   "display_name": "Python 3 (ipykernel)",
   "language": "python",
   "name": "python3"
  },
  "language_info": {
   "codemirror_mode": {
    "name": "ipython",
    "version": 3
   },
   "file_extension": ".py",
   "mimetype": "text/x-python",
   "name": "python",
   "nbconvert_exporter": "python",
   "pygments_lexer": "ipython3",
   "version": "3.11.4"
  }
 },
 "nbformat": 4,
 "nbformat_minor": 5
}
