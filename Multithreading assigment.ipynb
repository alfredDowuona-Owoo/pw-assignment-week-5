{
 "cells": [
  {
   "cell_type": "markdown",
   "id": "1194d5ee",
   "metadata": {},
   "source": [
    "##### Q1. What is multithreading in python? hy is it used? Name the module used to handle threads in python"
   ]
  },
  {
   "cell_type": "markdown",
   "id": "09d878f1",
   "metadata": {},
   "source": [
    "Multithreading in Python refers to the concurrent execution of multiple threads within a single Python process. It is used to perform multiple tasks concurrently, making better use of multi-core processors.\n",
    "\n",
    "The threading module is used to handle threads in Python."
   ]
  },
  {
   "cell_type": "markdown",
   "id": "fba71a99",
   "metadata": {},
   "source": [
    "###### .Q2. Why threading module used? Write the use of the following functions\n",
    "* activeCount\n",
    "* currentThread\n",
    " * enumerate"
   ]
  },
  {
   "cell_type": "markdown",
   "id": "72527f9e",
   "metadata": {},
   "source": [
    "The threading module is used to work with threads in Python.\n",
    "\n",
    "activeCount(): This function returns the number of Thread objects currently alive.\n",
    "\n",
    "currentThread(): This function returns the current Thread object corresponding to the caller.\n",
    "\n",
    "enumerate(): This function returns a list of all Thread objects currently alive."
   ]
  },
  {
   "cell_type": "markdown",
   "id": "ae4c42fc",
   "metadata": {},
   "source": [
    "###### Q3. Explain the following functions\n",
    "* run\n",
    "* start\n",
    "* join\n",
    "* isAlive)"
   ]
  },
  {
   "cell_type": "markdown",
   "id": "e72569b9",
   "metadata": {},
   "source": [
    "* run(): This method is called when you start a thread using the start() method. You override this method in a custom thread class to specify the code that the thread should execute.\n",
    "\n",
    "* start(): This method starts the execution of a thread by calling the run() method. It creates a new thread of execution and runs the code specified in the run() method concurrently.\n",
    "\n",
    "* join(): This method is used to wait for a thread to complete its execution. When you call join() on a thread, the program will wait until that thread finishes before continuing with the rest of its execution.\n",
    "\n",
    "* isAlive(): This method checks whether a thread is currently running or alive. It returns True if the thread has been started and has not yet completed, otherwise False."
   ]
  },
  {
   "cell_type": "markdown",
   "id": "2249ecfa",
   "metadata": {},
   "source": [
    "###### Q4. Write a python program to create two threads. Thread one must print the list of squares and thread two must print the list of cubes"
   ]
  },
  {
   "cell_type": "code",
   "execution_count": 2,
   "id": "b26b6c87",
   "metadata": {},
   "outputs": [
    {
     "name": "stdout",
     "output_type": "stream",
     "text": [
      "Square of 1: 1\n",
      "Square of 2: 4\n",
      "Square of 3: 9\n",
      "Square of 4: 16\n",
      "Square of 5: 25\n",
      "Cube of 1: 1\n",
      "Cube of 2: 8\n",
      "Cube of 3: 27\n",
      "Cube of 4: 64\n",
      "Cube of 5: 125\n",
      "Both threads have finished.\n"
     ]
    }
   ],
   "source": [
    "import threading\n",
    "\n",
    "def print_squares():\n",
    "    for i in range(1, 6):\n",
    "        print(f\"Square of {i}: {i**2}\")\n",
    "\n",
    "def print_cubes():\n",
    "    for i in range(1, 6):\n",
    "        print(f\"Cube of {i}: {i**3}\")\n",
    "\n",
    "# Create two thread objects\n",
    "thread1 = threading.Thread(target=print_squares)\n",
    "thread2 = threading.Thread(target=print_cubes)\n",
    "\n",
    "# Start both threads\n",
    "thread1.start()\n",
    "thread2.start()\n",
    "\n",
    "# Wait for both threads to finish\n",
    "thread1.join()\n",
    "thread2.join()\n",
    "\n",
    "print(\"Both threads have finished.\")\n"
   ]
  },
  {
   "cell_type": "markdown",
   "id": "6939ecf7",
   "metadata": {},
   "source": [
    "###### Q5. State advantages and disadvantages of multithreading"
   ]
  },
  {
   "cell_type": "markdown",
   "id": "2381c080",
   "metadata": {},
   "source": [
    "Advantages of Multithreading:\n",
    "\n",
    "Improved Performance: Multithreading can lead to better performance, especially on multi-core processors, by allowing concurrent execution of tasks. This can result in faster program execution.\n",
    "\n",
    "Responsiveness: Multithreading can keep a program responsive by allowing certain tasks to run in the background while the main program continues to execute.\n",
    "\n",
    "Resource Sharing: Threads within the same process share the same memory space, making it easier to share data and resources between threads compared to separate processes.\n",
    "\n",
    "Simplified Programming: In some cases, multithreading can simplify program design, particularly for tasks that naturally involve concurrency, like GUI applications."
   ]
  },
  {
   "cell_type": "markdown",
   "id": "373f2f55",
   "metadata": {},
   "source": [
    "Disadvantages of Multithreading:\n",
    "\n",
    "Complexity: Multithreaded programs can be complex to design, implement, and debug. Dealing with issues like race conditions, deadlocks, and thread synchronization can be challenging.\n",
    "\n",
    "Resource Contentions: Threads within the same process may compete for resources like CPU time, memory, and I/O, leading to contention issues that can degrade performance.\n",
    "\n",
    "Debugging Difficulty: Debugging multithreaded programs can be difficult due to the non-deterministic nature of thread execution. Issues may not always be easily reproducible.\n",
    "\n",
    "Portability: Multithreading behavior can vary across different operating systems and platforms, making it less portable and requiring platform-specific code for thread management.\n",
    "\n",
    "Increased Memory Usage: Each thread has its own stack and may require additional memory overhead. In some cases, creating too many threads can lead to excessive memory consumption."
   ]
  },
  {
   "cell_type": "markdown",
   "id": "b7136005",
   "metadata": {},
   "source": [
    "##### Q6. Explain deadlocks and race conditions."
   ]
  },
  {
   "cell_type": "markdown",
   "id": "ef47811c",
   "metadata": {},
   "source": [
    "Deadlock:\n",
    "Deadlock is a situation in concurrent programming where two or more threads or processes are unable to proceed with their execution because they are each waiting for the other(s) to release a resource. "
   ]
  },
  {
   "cell_type": "markdown",
   "id": "59e801b5",
   "metadata": {},
   "source": [
    " Race conditions occur when multiple threads or processes access shared data or resources concurrently, and at least one of them modifies the data without proper synchronization. "
   ]
  },
  {
   "cell_type": "code",
   "execution_count": null,
   "id": "cdbb407a",
   "metadata": {},
   "outputs": [],
   "source": []
  },
  {
   "cell_type": "code",
   "execution_count": null,
   "id": "3735396e",
   "metadata": {},
   "outputs": [],
   "source": []
  },
  {
   "cell_type": "code",
   "execution_count": null,
   "id": "c337ee28",
   "metadata": {},
   "outputs": [],
   "source": []
  },
  {
   "cell_type": "code",
   "execution_count": null,
   "id": "638a347d",
   "metadata": {},
   "outputs": [],
   "source": []
  },
  {
   "cell_type": "code",
   "execution_count": null,
   "id": "e9d5d24b",
   "metadata": {},
   "outputs": [],
   "source": []
  }
 ],
 "metadata": {
  "kernelspec": {
   "display_name": "Python 3 (ipykernel)",
   "language": "python",
   "name": "python3"
  },
  "language_info": {
   "codemirror_mode": {
    "name": "ipython",
    "version": 3
   },
   "file_extension": ".py",
   "mimetype": "text/x-python",
   "name": "python",
   "nbconvert_exporter": "python",
   "pygments_lexer": "ipython3",
   "version": "3.11.4"
  }
 },
 "nbformat": 4,
 "nbformat_minor": 5
}
