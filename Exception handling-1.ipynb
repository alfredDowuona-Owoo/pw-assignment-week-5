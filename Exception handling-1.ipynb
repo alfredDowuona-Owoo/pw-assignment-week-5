{
 "cells": [
  {
   "cell_type": "markdown",
   "id": "04c93df7",
   "metadata": {},
   "source": [
    "##### Q1. What is exception in python? write the difference between exceptions and syntax errors"
   ]
  },
  {
   "cell_type": "markdown",
   "id": "8a41177c",
   "metadata": {},
   "source": [
    "n exception is an event that occurs during the execution of a program and disrupts the normal flow of the program's instructions. When an exception occurs, Python generates an exception object, which contains information about the error, including its type and, in some cases, additional details such as a traceback showing the call stack at the time of the exception"
   ]
  },
  {
   "cell_type": "markdown",
   "id": "5598a618",
   "metadata": {},
   "source": [
    "##### Exception:\n",
    "\n",
    "* Exceptions occur during the runtime of a program when a specific condition is not met or when an operation cannot be performed.\n",
    "* They are not detected by the Python interpreter until the code is executed.\n",
    "* Examples include ZeroDivisionError, TypeError, and ValueError."
   ]
  },
  {
   "cell_type": "markdown",
   "id": "a14369c4",
   "metadata": {},
   "source": [
    "##### Syntax Error:\n",
    "\n",
    "* Syntax errors, also known as parsing errors, occur during the parsing or compilation phase of the code, before it is executed.\n",
    "* These errors occur when the code does not conform to the syntax rules of the Python language.\n",
    "* Examples include missing colons, incorrect indentation, or using undefined variables.\n",
    "* Syntax errors must be fixed before the code can be executed; the program won't run until these errors are resolved."
   ]
  },
  {
   "cell_type": "markdown",
   "id": "7c67fea3",
   "metadata": {},
   "source": [
    "Q2. What will happened when an exception is not handled? explain with an example"
   ]
  },
  {
   "cell_type": "markdown",
   "id": "ffdc4c53",
   "metadata": {},
   "source": [
    "It will result in the program terminating with an error message, and a traceback showing the sequence of function calls that led to the unhandled exception."
   ]
  },
  {
   "cell_type": "code",
   "execution_count": 1,
   "id": "9e9d2ee5",
   "metadata": {},
   "outputs": [
    {
     "ename": "ZeroDivisionError",
     "evalue": "division by zero",
     "output_type": "error",
     "traceback": [
      "\u001b[1;31m---------------------------------------------------------------------------\u001b[0m",
      "\u001b[1;31mZeroDivisionError\u001b[0m                         Traceback (most recent call last)",
      "Cell \u001b[1;32mIn[1], line 7\u001b[0m\n\u001b[0;32m      4\u001b[0m     \u001b[38;5;28;01mreturn\u001b[39;00m x \u001b[38;5;241m/\u001b[39m y\n\u001b[0;32m      6\u001b[0m \u001b[38;5;28;01mtry\u001b[39;00m:\n\u001b[1;32m----> 7\u001b[0m     result \u001b[38;5;241m=\u001b[39m divide(\u001b[38;5;241m10\u001b[39m, \u001b[38;5;241m0\u001b[39m)  \u001b[38;5;66;03m# This will raise a ZeroDivisionError\u001b[39;00m\n\u001b[0;32m      8\u001b[0m \u001b[38;5;28;01mexcept\u001b[39;00m \u001b[38;5;167;01mTypeError\u001b[39;00m \u001b[38;5;28;01mas\u001b[39;00m e:\n\u001b[0;32m      9\u001b[0m     \u001b[38;5;28mprint\u001b[39m(\u001b[38;5;124m\"\u001b[39m\u001b[38;5;124mTypeError:\u001b[39m\u001b[38;5;124m\"\u001b[39m, e)\n",
      "Cell \u001b[1;32mIn[1], line 4\u001b[0m, in \u001b[0;36mdivide\u001b[1;34m(x, y)\u001b[0m\n\u001b[0;32m      3\u001b[0m \u001b[38;5;28;01mdef\u001b[39;00m \u001b[38;5;21mdivide\u001b[39m(x, y):\n\u001b[1;32m----> 4\u001b[0m     \u001b[38;5;28;01mreturn\u001b[39;00m x \u001b[38;5;241m/\u001b[39m y\n",
      "\u001b[1;31mZeroDivisionError\u001b[0m: division by zero"
     ]
    }
   ],
   "source": [
    "# when an exception is not handled eg.\n",
    "\n",
    "def divide(x, y):\n",
    "    return x / y\n",
    "\n",
    "try:\n",
    "    result = divide(10, 0)  # This will raise a ZeroDivisionError\n",
    "except TypeError as e:\n",
    "    print(\"TypeError:\", e)\n",
    "\n",
    "print(\"Program continues...\")  # This line will not be reached due to the unhandled exception\n"
   ]
  },
  {
   "cell_type": "markdown",
   "id": "c445c15d",
   "metadata": {},
   "source": [
    "##### Q3. Which python statement are used to catch and handle exception? explain with examples"
   ]
  },
  {
   "cell_type": "markdown",
   "id": "7f86c4d3",
   "metadata": {},
   "source": [
    "You can catch and handle exceptions using * try *...* except* statements. These statements allow you to specify a block of code that might raise exceptions and provide a mechanism for handling those exceptions "
   ]
  },
  {
   "cell_type": "code",
   "execution_count": 2,
   "id": "dbec064c",
   "metadata": {},
   "outputs": [
    {
     "name": "stdout",
     "output_type": "stream",
     "text": [
      "Error: division by zero\n"
     ]
    }
   ],
   "source": [
    "try:\n",
    "    result = 10 / 0  # This will raise a ZeroDivisionError\n",
    "except ZeroDivisionError as e:\n",
    "    print(\"Error:\", e)"
   ]
  },
  {
   "cell_type": "markdown",
   "id": "44f564e5",
   "metadata": {},
   "source": [
    "Q4. Explain with examples\n",
    "  a. try and else\n",
    "  b. finally \n",
    "  c. raise"
   ]
  },
  {
   "cell_type": "markdown",
   "id": "125540c0",
   "metadata": {},
   "source": [
    "a. try and else:\n",
    "\n",
    "The try and else blocks are used together to handle exceptions and execute code when no exceptions occur."
   ]
  },
  {
   "cell_type": "code",
   "execution_count": 3,
   "id": "1f008f46",
   "metadata": {},
   "outputs": [
    {
     "name": "stdout",
     "output_type": "stream",
     "text": [
      "Division successful. Result: 5.0\n"
     ]
    }
   ],
   "source": [
    "try:\n",
    "    x = 10 / 2  # No exception is raised\n",
    "except ZeroDivisionError:\n",
    "    print(\"ZeroDivisionError: Cannot divide by zero\")\n",
    "else:\n",
    "    print(\"Division successful. Result:\", x)\n"
   ]
  },
  {
   "cell_type": "markdown",
   "id": "90dffac4",
   "metadata": {},
   "source": [
    "b. finally:\n",
    "\n",
    "The finally block is used to define code that must be executed regardless of whether an exception occurs or not. It's often used for cleanup operations."
   ]
  },
  {
   "cell_type": "code",
   "execution_count": 4,
   "id": "9603f3c0",
   "metadata": {},
   "outputs": [
    {
     "name": "stdout",
     "output_type": "stream",
     "text": [
      "File not found\n"
     ]
    },
    {
     "ename": "NameError",
     "evalue": "name 'file' is not defined",
     "output_type": "error",
     "traceback": [
      "\u001b[1;31m---------------------------------------------------------------------------\u001b[0m",
      "\u001b[1;31mNameError\u001b[0m                                 Traceback (most recent call last)",
      "Cell \u001b[1;32mIn[4], line 7\u001b[0m\n\u001b[0;32m      5\u001b[0m     \u001b[38;5;28mprint\u001b[39m(\u001b[38;5;124m\"\u001b[39m\u001b[38;5;124mFile not found\u001b[39m\u001b[38;5;124m\"\u001b[39m)\n\u001b[0;32m      6\u001b[0m \u001b[38;5;28;01mfinally\u001b[39;00m:\n\u001b[1;32m----> 7\u001b[0m     file\u001b[38;5;241m.\u001b[39mclose()\n",
      "\u001b[1;31mNameError\u001b[0m: name 'file' is not defined"
     ]
    }
   ],
   "source": [
    "try:\n",
    "    file = open(\"example.txt\", \"r\")\n",
    "    content = file.read()\n",
    "except FileNotFoundError:\n",
    "    print(\"File not found\")\n",
    "finally:\n",
    "    file.close()  # This will be executed whether an exception occurs or not\n"
   ]
  },
  {
   "cell_type": "markdown",
   "id": "451c31dd",
   "metadata": {},
   "source": [
    "c. raise:\n",
    "\n",
    "The raise keyword is used to raise a specific exception intentionally. You can use it to create and raise your custom exceptions or re-raise exceptions that you catch."
   ]
  },
  {
   "cell_type": "code",
   "execution_count": 5,
   "id": "dd0e4886",
   "metadata": {},
   "outputs": [
    {
     "name": "stdout",
     "output_type": "stream",
     "text": [
      "Error: Cannot divide by zero\n"
     ]
    }
   ],
   "source": [
    "def divide(x, y):\n",
    "    if y == 0:\n",
    "        raise ZeroDivisionError(\"Cannot divide by zero\")\n",
    "    return x / y\n",
    "\n",
    "try:\n",
    "    result = divide(10, 0)\n",
    "except ZeroDivisionError as e:\n",
    "    print(\"Error:\", e)\n"
   ]
  },
  {
   "cell_type": "markdown",
   "id": "0b21180d",
   "metadata": {},
   "source": [
    "Q5. What are custom exception in python? why do we need custom exceptions explain with an example"
   ]
  },
  {
   "cell_type": "markdown",
   "id": "4aa8dd91",
   "metadata": {},
   "source": [
    "Custom exceptions in Python are user-defined exception classes that allow you to create your own exception types tailored to specific situations in your code.\n",
    "You need custom exceptions to improve code clarity, readability, and maintainability."
   ]
  },
  {
   "cell_type": "markdown",
   "id": "c9b8df9f",
   "metadata": {},
   "source": [
    "##### Q6. Create a custom exception class. Use this class to handle an exception"
   ]
  },
  {
   "cell_type": "code",
   "execution_count": 6,
   "id": "096d577e",
   "metadata": {},
   "outputs": [
    {
     "name": "stdout",
     "output_type": "stream",
     "text": [
      "Custom Exception Caught: Value -5 is negative. Positive value expected.\n"
     ]
    }
   ],
   "source": [
    "class NegativeValueError(Exception):\n",
    "    def __init__(self, value):\n",
    "        self.value = value\n",
    "        super().__init__(f\"Value {value} is negative. Positive value expected.\")\n",
    "\n",
    "def calculate_square_root(x):\n",
    "    if x < 0:\n",
    "        raise NegativeValueError(x)\n",
    "    return x ** 0.5\n",
    "\n",
    "try:\n",
    "    result = calculate_square_root(-5)\n",
    "except NegativeValueError as e:\n",
    "    print(\"Custom Exception Caught:\", e)\n"
   ]
  },
  {
   "cell_type": "code",
   "execution_count": null,
   "id": "15285dd6",
   "metadata": {},
   "outputs": [],
   "source": []
  },
  {
   "cell_type": "code",
   "execution_count": null,
   "id": "a783085a",
   "metadata": {},
   "outputs": [],
   "source": []
  },
  {
   "cell_type": "code",
   "execution_count": null,
   "id": "fda14dcd",
   "metadata": {},
   "outputs": [],
   "source": []
  },
  {
   "cell_type": "code",
   "execution_count": null,
   "id": "29e84581",
   "metadata": {},
   "outputs": [],
   "source": []
  },
  {
   "cell_type": "code",
   "execution_count": null,
   "id": "74464823",
   "metadata": {},
   "outputs": [],
   "source": []
  },
  {
   "cell_type": "code",
   "execution_count": null,
   "id": "6b9371d2",
   "metadata": {},
   "outputs": [],
   "source": []
  },
  {
   "cell_type": "code",
   "execution_count": null,
   "id": "b639ae9b",
   "metadata": {},
   "outputs": [],
   "source": []
  },
  {
   "cell_type": "code",
   "execution_count": null,
   "id": "416f2c3d",
   "metadata": {},
   "outputs": [],
   "source": []
  },
  {
   "cell_type": "code",
   "execution_count": null,
   "id": "cdbea5c8",
   "metadata": {},
   "outputs": [],
   "source": []
  }
 ],
 "metadata": {
  "kernelspec": {
   "display_name": "Python 3 (ipykernel)",
   "language": "python",
   "name": "python3"
  },
  "language_info": {
   "codemirror_mode": {
    "name": "ipython",
    "version": 3
   },
   "file_extension": ".py",
   "mimetype": "text/x-python",
   "name": "python",
   "nbconvert_exporter": "python",
   "pygments_lexer": "ipython3",
   "version": "3.11.4"
  }
 },
 "nbformat": 4,
 "nbformat_minor": 5
}
